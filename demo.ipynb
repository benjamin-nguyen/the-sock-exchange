{
 "cells": [
  {
   "cell_type": "code",
   "execution_count": 1,
   "metadata": {},
   "outputs": [
    {
     "name": "stdout",
     "output_type": "stream",
     "text": [
      "Defaulting to user installation because normal site-packages is not writeable\n",
      "Collecting scikit-learn\n",
      "  Downloading scikit_learn-1.5.2-cp312-cp312-win_amd64.whl.metadata (13 kB)\n",
      "Requirement already satisfied: numpy>=1.19.5 in c:\\users\\wasadmin\\appdata\\roaming\\python\\python312\\site-packages (from scikit-learn) (1.26.4)\n",
      "Collecting scipy>=1.6.0 (from scikit-learn)\n",
      "  Downloading scipy-1.14.1-cp312-cp312-win_amd64.whl.metadata (60 kB)\n",
      "     ---------------------------------------- 0.0/60.8 kB ? eta -:--:--\n",
      "     ------ --------------------------------- 10.2/60.8 kB ? eta -:--:--\n",
      "     ------ --------------------------------- 10.2/60.8 kB ? eta -:--:--\n",
      "     ------------------- ------------------ 30.7/60.8 kB 217.9 kB/s eta 0:00:01\n",
      "     ------------------- ------------------ 30.7/60.8 kB 217.9 kB/s eta 0:00:01\n",
      "     ------------------- ------------------ 30.7/60.8 kB 217.9 kB/s eta 0:00:01\n",
      "     -------------------------------------- 60.8/60.8 kB 249.0 kB/s eta 0:00:00\n",
      "Collecting joblib>=1.2.0 (from scikit-learn)\n",
      "  Downloading joblib-1.4.2-py3-none-any.whl.metadata (5.4 kB)\n",
      "Collecting threadpoolctl>=3.1.0 (from scikit-learn)\n",
      "  Downloading threadpoolctl-3.5.0-py3-none-any.whl.metadata (13 kB)\n",
      "Downloading scikit_learn-1.5.2-cp312-cp312-win_amd64.whl (11.0 MB)\n",
      "   ---------------------------------------- 0.0/11.0 MB ? eta -:--:--\n",
      "   ---------------------------------------- 0.1/11.0 MB 2.0 MB/s eta 0:00:06\n",
      "   ---------------------------------------- 0.1/11.0 MB 1.8 MB/s eta 0:00:06\n",
      "   ----- ---------------------------------- 1.5/11.0 MB 13.8 MB/s eta 0:00:01\n",
      "   ----------------------- ---------------- 6.6/11.0 MB 46.8 MB/s eta 0:00:01\n",
      "   ---------------------------------------  11.0/11.0 MB 129.5 MB/s eta 0:00:01\n",
      "   ---------------------------------------  11.0/11.0 MB 129.5 MB/s eta 0:00:01\n",
      "   ---------------------------------------- 11.0/11.0 MB 81.8 MB/s eta 0:00:00\n",
      "Downloading joblib-1.4.2-py3-none-any.whl (301 kB)\n",
      "   ---------------------------------------- 0.0/301.8 kB ? eta -:--:--\n",
      "   --------------------------------------- 301.8/301.8 kB 18.2 MB/s eta 0:00:00\n",
      "Downloading scipy-1.14.1-cp312-cp312-win_amd64.whl (44.5 MB)\n",
      "   ---------------------------------------- 0.0/44.5 MB ? eta -:--:--\n",
      "   -- ------------------------------------- 2.6/44.5 MB 81.9 MB/s eta 0:00:01\n",
      "   ---- ----------------------------------- 5.5/44.5 MB 70.6 MB/s eta 0:00:01\n",
      "   ------- -------------------------------- 8.2/44.5 MB 74.2 MB/s eta 0:00:01\n",
      "   ---------- ----------------------------- 11.5/44.5 MB 72.6 MB/s eta 0:00:01\n",
      "   ------------- -------------------------- 14.7/44.5 MB 81.8 MB/s eta 0:00:01\n",
      "   ---------------- ----------------------- 18.8/44.5 MB 108.8 MB/s eta 0:00:01\n",
      "   ------------------ --------------------- 20.9/44.5 MB 81.8 MB/s eta 0:00:01\n",
      "   ---------------------- ----------------- 24.8/44.5 MB 93.9 MB/s eta 0:00:01\n",
      "   ----------------------- ---------------- 26.0/44.5 MB 72.6 MB/s eta 0:00:01\n",
      "   ------------------------- -------------- 28.6/44.5 MB 65.6 MB/s eta 0:00:01\n",
      "   --------------------------- ------------ 30.2/44.5 MB 54.7 MB/s eta 0:00:01\n",
      "   ----------------------------- ---------- 32.9/44.5 MB 59.8 MB/s eta 0:00:01\n",
      "   ------------------------------- -------- 34.8/44.5 MB 50.4 MB/s eta 0:00:01\n",
      "   --------------------------------- ------ 36.9/44.5 MB 54.4 MB/s eta 0:00:01\n",
      "   ----------------------------------- ---- 40.1/44.5 MB 65.6 MB/s eta 0:00:01\n",
      "   ---------------------------------------  43.4/44.5 MB 72.6 MB/s eta 0:00:01\n",
      "   ---------------------------------------  44.5/44.5 MB 73.1 MB/s eta 0:00:01\n",
      "   ---------------------------------------  44.5/44.5 MB 73.1 MB/s eta 0:00:01\n",
      "   ---------------------------------------  44.5/44.5 MB 73.1 MB/s eta 0:00:01\n",
      "   ---------------------------------------  44.5/44.5 MB 73.1 MB/s eta 0:00:01\n",
      "   ---------------------------------------  44.5/44.5 MB 73.1 MB/s eta 0:00:01\n",
      "   ---------------------------------------  44.5/44.5 MB 73.1 MB/s eta 0:00:01\n",
      "   ---------------------------------------  44.5/44.5 MB 73.1 MB/s eta 0:00:01\n",
      "   ---------------------------------------  44.5/44.5 MB 73.1 MB/s eta 0:00:01\n",
      "   ---------------------------------------  44.5/44.5 MB 73.1 MB/s eta 0:00:01\n",
      "   ---------------------------------------  44.5/44.5 MB 73.1 MB/s eta 0:00:01\n",
      "   ---------------------------------------  44.5/44.5 MB 73.1 MB/s eta 0:00:01\n",
      "   ---------------------------------------  44.5/44.5 MB 73.1 MB/s eta 0:00:01\n",
      "   ---------------------------------------- 44.5/44.5 MB 17.2 MB/s eta 0:00:00\n",
      "Downloading threadpoolctl-3.5.0-py3-none-any.whl (18 kB)\n",
      "Installing collected packages: threadpoolctl, scipy, joblib, scikit-learn\n",
      "Successfully installed joblib-1.4.2 scikit-learn-1.5.2 scipy-1.14.1 threadpoolctl-3.5.0\n"
     ]
    },
    {
     "name": "stderr",
     "output_type": "stream",
     "text": [
      "\n",
      "[notice] A new release of pip is available: 24.0 -> 24.2\n",
      "[notice] To update, run: python.exe -m pip install --upgrade pip\n"
     ]
    }
   ],
   "source": [
    "! pip install scikit-learn"
   ]
  },
  {
   "cell_type": "code",
   "execution_count": 2,
   "metadata": {},
   "outputs": [],
   "source": [
    "import pickle\n",
    "import pandas as pd\n",
    "from sklearn.linear_model import LogisticRegression\n",
    "from sklearn.model_selection import train_test_split\n",
    "from sklearn.metrics import accuracy_score\n",
    "\n",
    "# Load the diabetes dataset from the URL\n",
    "url = \"https://classfiles.blob.core.windows.net/edp/diabetes.csv\"\n",
    "data = pd.read_csv(url)"
   ]
  }
 ],
 "metadata": {
  "kernelspec": {
   "display_name": "Python 3",
   "language": "python",
   "name": "python3"
  },
  "language_info": {
   "codemirror_mode": {
    "name": "ipython",
    "version": 3
   },
   "file_extension": ".py",
   "mimetype": "text/x-python",
   "name": "python",
   "nbconvert_exporter": "python",
   "pygments_lexer": "ipython3",
   "version": "3.12.3"
  }
 },
 "nbformat": 4,
 "nbformat_minor": 2
}
